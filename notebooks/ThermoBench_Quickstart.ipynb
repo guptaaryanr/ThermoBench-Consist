{
    "cells": [
        {
            "cell_type": "markdown",
            "metadata": {},
            "source": [
                "# ThermoBench-Consist Quickstart\n",
                "CPU-only demo: wrap adapters, run checks for CO₂ and N₂, save a one-page report and two tiny figures."
            ]
        },
        {
            "cell_type": "code",
            "execution_count": null,
            "metadata": {
                "colab": {}
            },
            "outputs": [],
            "source": [
                "import os, json, numpy as np\n",
                "from thermobench.adapters.adapter_coolprop import CoolPropAdapter\n",
                "from thermobench.adapters.adapter_toy_inconsistent import ToyInconsistentAdapter\n",
                "from thermobench.checks import (\n",
                "    check_monotonic_rho_isotherm, check_compressibility, check_clapeyron,\n",
                ")\n",
                "from thermobench.grid import parse_grid_string\n",
                "from thermobench.score import aggregate_checks_to_summary\n",
                "from thermobench.report import generate_report\n",
                "\n",
                "os.makedirs('out', exist_ok=True)\n",
                "fluid_list = ['CO2', 'N2']\n",
                "grid = 'T=220:300:20,p=1e5:5e6:5e5'  # quick grid\n",
                "T_vals, p_vals = parse_grid_string(grid)\n",
                "T0 = float(T_vals[len(T_vals)//2])\n",
                "p_line = p_vals\n",
                "\n",
                "for fluid in fluid_list:\n",
                "    adapter = CoolPropAdapter(fluid=fluid)\n",
                "    # C1 & C2 on a single isotherm\n",
                "    r1 = check_monotonic_rho_isotherm(adapter, fluid, T0, p_line, tol=1e-6)\n",
                "    r2 = check_compressibility(adapter, fluid, T0, p_line, tol=1e-6)\n",
                "    # C3 on a few saturation T\n",
                "    Ts = [float(T_vals[0]), float(T_vals[len(T_vals)//2]), float(T_vals[-1])]\n",
                "    r3 = check_clapeyron(adapter, fluid, Ts, tol_rel=0.1)\n",
                "    summary = aggregate_checks_to_summary(\n",
                "        adapter_name=adapter.__class__.__name__, fluid=fluid, grid=grid,\n",
                "        results_monotonic=[r1], results_compress=[r2], results_clapeyron=[r3],\n",
                "        tol_monotonic=1e-6, tol_clap=0.1,\n",
                "    )\n",
                "    json_path = f'out/report_{fluid}.json'\n",
                "    with open(json_path, 'w') as f:\n",
                "        json.dump(summary, f, indent=2)\n",
                "    md_path = f'out/report_{fluid}.md'\n",
                "    html_path = f'out/report_{fluid}.html'\n",
                "    generate_report(summary, md_out=md_path, html_out=html_path, out_dir='out')\n",
                "    print(f\"Saved: {md_path}, {html_path}\")\n",
                "\n",
                "print('Done.')"
            ]
        }
    ],
    "metadata": {
        "colab": {
            "name": "ThermoBench_Quickstart.ipynb"
        },
        "kernelspec": {
            "display_name": "Python 3",
            "language": "python",
            "name": "python3"
        },
        "language_info": {
            "name": "python",
            "version": "3.10"
        }
    },
    "nbformat": 4,
    "nbformat_minor": 5
}