{
 "cells": [
  {
   "cell_type": "markdown",
   "id": "7fb27b941602401d91542211134fc71a",
   "metadata": {},
   "source": [
    "# ThermoBench-Consist Quickstart\n",
    "CPU-only demo: wrap adapters, run checks for CO₂ and N₂, save a one-page report and two tiny figures."
   ]
  },
  {
   "cell_type": "code",
   "execution_count": 1,
   "id": "acae54e37e7d407bbb7b55eff062a284",
   "metadata": {
    "colab": {},
    "execution": {
     "iopub.execute_input": "2025-09-26T22:10:01.452891Z",
     "iopub.status.busy": "2025-09-26T22:10:01.452722Z",
     "iopub.status.idle": "2025-09-26T22:10:02.282626Z",
     "shell.execute_reply": "2025-09-26T22:10:02.282013Z"
    }
   },
   "outputs": [
    {
     "name": "stdout",
     "output_type": "stream",
     "text": [
      "Saved: out/report_CO2.md, out/report_CO2.html\n",
      "Saved: out/report_N2.md, out/report_N2.html\n",
      "Done.\n"
     ]
    }
   ],
   "source": [
    "import json\n",
    "import os\n",
    "\n",
    "from thermobench.adapters.adapter_coolprop import CoolPropAdapter\n",
    "from thermobench.checks import (\n",
    "    check_clapeyron,\n",
    "    check_compressibility,\n",
    "    check_monotonic_rho_isotherm,\n",
    ")\n",
    "from thermobench.grid import default_saturation_T, parse_grid_string\n",
    "from thermobench.report import generate_report\n",
    "from thermobench.score import aggregate_checks_to_summary\n",
    "\n",
    "os.makedirs('out', exist_ok=True)\n",
    "\n",
    "fluid_list = ['CO2', 'N2']\n",
    "# Per-fluid grids (single-phase sampling band), small/fast:\n",
    "grids = {\n",
    "    'CO2': 'T=220:300:20,p=1e5:5e6:5e5',\n",
    "    'N2' : 'T=80:120:20,p=1e5:3e6:5e5',\n",
    "}\n",
    "\n",
    "for fluid in fluid_list:\n",
    "    grid = grids[fluid]\n",
    "    T_vals, p_vals = parse_grid_string(grid)\n",
    "    T0 = float(T_vals[len(T_vals)//2])\n",
    "    p_line = p_vals\n",
    "    adapter = CoolPropAdapter(fluid=fluid)\n",
    "\n",
    "    # C1 & C2 on a single isotherm\n",
    "    r1 = check_monotonic_rho_isotherm(adapter, fluid, T0, p_line, tol=1e-6)\n",
    "    r2 = check_compressibility(adapter, fluid, T0, p_line, tol=1e-6)\n",
    "\n",
    "    # C3 on valid saturation T for the fluid\n",
    "    Ts = default_saturation_T(fluid)  # CO2 -> [230,240,260,280], N2 -> [85,95,105,115]\n",
    "    r3 = check_clapeyron(adapter, fluid, Ts, tol_rel=0.1)\n",
    "\n",
    "    summary = aggregate_checks_to_summary(\n",
    "        adapter_name=adapter.__class__.__name__, fluid=fluid, grid=grid,\n",
    "        results_monotonic=[r1], results_compress=[r2], results_clapeyron=[r3],\n",
    "        tol_monotonic=1e-6, tol_clap=0.1,\n",
    "    )\n",
    "\n",
    "    json_path = f'out/report_{fluid}.json'\n",
    "    with open(json_path, 'w') as f:\n",
    "        json.dump(summary, f, indent=2)\n",
    "    md_path = f'out/report_{fluid}.md'\n",
    "    html_path = f'out/report_{fluid}.html'\n",
    "    generate_report(summary, md_out=md_path, html_out=html_path, out_dir='out')\n",
    "    print(f\"Saved: {md_path}, {html_path}\")\n",
    "\n",
    "print('Done.')\n"
   ]
  }
 ],
 "metadata": {
  "colab": {
   "name": "ThermoBench_Quickstart.ipynb"
  },
  "kernelspec": {
   "display_name": "Python 3",
   "language": "python",
   "name": "python3"
  },
  "language_info": {
   "codemirror_mode": {
    "name": "ipython",
    "version": 3
   },
   "file_extension": ".py",
   "mimetype": "text/x-python",
   "name": "python",
   "nbconvert_exporter": "python",
   "pygments_lexer": "ipython3",
   "version": "3.12.4"
  }
 },
 "nbformat": 4,
 "nbformat_minor": 5
}
